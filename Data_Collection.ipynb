{
 "cells": [
  {
   "cell_type": "markdown",
   "id": "6a43545b",
   "metadata": {},
   "source": [
    "# Import et Installation"
   ]
  },
  {
   "cell_type": "code",
   "execution_count": null,
   "id": "1f4a16cc",
   "metadata": {},
   "outputs": [],
   "source": [
    "!pip install yfinance\n",
    "!pip install requests pandas\n",
    "import requests\n",
    "import yfinance as yf\n",
    "import pandas as pd\n",
    "import numpy as np\n",
    "from datetime import datetime, timedelta\n",
    "from scipy.stats import norm"
   ]
  },
  {
   "cell_type": "markdown",
   "id": "67fa890a",
   "metadata": {},
   "source": [
    "# Définition des tickers, de la période voulue et des clés pour API"
   ]
  },
  {
   "cell_type": "code",
   "execution_count": 97,
   "id": "555c16ae",
   "metadata": {},
   "outputs": [],
   "source": [
    "tickers = [\"GOOG\", \"AAPL\", \"META\", \"MSFT\", \"AMZN\", \"TSLA\", \"NFLX\"] # Définition (par leur ticker) des entreprises étudiées \n",
    "\n",
    "periode_d = 730 # Période d'interet en jour (2ans)\n",
    "\n",
    "end_date = datetime.today()\n",
    "start_date = end_date - timedelta(days=periode_d)\n",
    "historical_date = end_date - timedelta(days=5*365) # Création d'une date antérieure plus ancienne utile dans les cas où l'historique ne contient pas suffisament de données\n",
    "\n",
    "end_date = end_date.strftime('%Y-%m-%d')\n",
    "start_date = start_date.strftime('%Y-%m-%d')\n",
    "historical_date = historical_date.strftime('%Y-%m-%d')\n",
    "\n",
    "all_dates = pd.date_range(start=historical_date, end=end_date) # Générer une liste de toutes les dates dans l'intervalle\n",
    "\n",
    "api_key = \"982c933ec445b467499f63f143e687f0\" # Clé API du site de la Banque Fédérale de Saint Louis (Missouri, USA)"
   ]
  },
  {
   "cell_type": "markdown",
   "id": "71cbd675",
   "metadata": {},
   "source": [
    "# Dividends"
   ]
  },
  {
   "cell_type": "code",
   "execution_count": 98,
   "id": "441c63d1",
   "metadata": {},
   "outputs": [],
   "source": [
    "def get_dividend(ticker_name):\n",
    "    ticker = yf.Ticker(ticker_name)\n",
    "\n",
    "    dividends = ticker.dividends\n",
    "    df_dividends = dividends.reset_index()\n",
    "    df_dividends.columns = [\"date\", \"dividend\"]\n",
    "\n",
    "    df_dividends['dividend'] = df_dividends['dividend'].astype(float)  # Conversion en float\n",
    "    df_dividends['date'] = pd.to_datetime(df_dividends['date']).dt.strftime(\"%Y-%m-%d\")\n",
    "    df_dividends['date'] = pd.to_datetime(df_dividends['date']).dt.tz_localize(None) #Pour mettre les dates sous le même format que pour le sous-jacent\n",
    "\n",
    "        # Permet de compléter l'historique dans le cas où des dates manqueraient dans le dataframe extrait\n",
    "        # Pour cela nous rajoutons toutes les dates qui manquerait entre la date de début et la date de fin de l'intervalle d'interet puis si une date n'a pas de valeur associée, nous lui associons la dernière valeur connue\n",
    "        # Nous pensons que cette démarche est réaliste car à l'instant t, chaque acteur connait les événements passés (ici les dividendes) mais pas les événements futures.\n",
    "        # Ainsi par cela nous essayons de matérialiser les connaissances des acteurs sur les marchés à chaque instant\n",
    "    df_dividends = (\n",
    "        df_dividends.set_index(\"date\")\n",
    "        .reindex(all_dates)  # Ajouter les dates manquantes\n",
    "        .fillna(method=\"ffill\")  # Remplir avec la dernière valeur connue\n",
    "        .reset_index()\n",
    "    )\n",
    "\n",
    "    df_dividends = df_dividends.rename(columns={\"index\": \"Date\"})\n",
    "    df_dividends = df_dividends.rename(columns={\"dividend\": \"Dividend\"})\n",
    "    df_dividends = df_dividends[df_dividends[\"Date\"] >= start_date] # On restraint finalement l'intervalle de temps observé pour bien coincider avec l'intervalle d'intéret\n",
    "\n",
    "    return df_dividends"
   ]
  },
  {
   "cell_type": "markdown",
   "id": "3824a437",
   "metadata": {},
   "source": [
    "# Sous-jacent"
   ]
  },
  {
   "cell_type": "code",
   "execution_count": 99,
   "id": "8c4ed88f",
   "metadata": {},
   "outputs": [],
   "source": [
    "def get_sous_jacent(ticker_name) :\n",
    "    ticker_symbol = ticker_name # Définition du ticker de l'action étudiée\n",
    "\n",
    "    df_sous_jacent = yf.download(ticker_symbol, period='5y')\n",
    "\n",
    "    # Aplatir les colonnes multi-niveaux\n",
    "    df_sous_jacent.columns = ['_'.join(col).strip() for col in df_sous_jacent.columns] # Permet de ne plus avoir de colonnes multi_niveaux\n",
    "    df_sous_jacent = df_sous_jacent.reset_index() # Pour mettre la date comme colonne\n",
    "    df_sous_jacent[\"Sous_jacent\"]=ticker_symbol\n",
    "    df_sous_jacent = df_sous_jacent.sort_values(by=\"Date\").reset_index(drop=True)\n",
    "\n",
    "    columns =[\"Date\",f\"Close_{ticker_symbol}\",f\"Volume_{ticker_symbol}\",\"Sous_jacent\"]\n",
    "    df_sous_jacent = df_sous_jacent[columns]\n",
    "\n",
    "    df_sous_jacent = df_sous_jacent.rename(columns={f\"Close_{ticker_symbol}\": \"Close_ss_jacent\"})\n",
    "    df_sous_jacent = df_sous_jacent.rename(columns={f\"Volume_{ticker_symbol}\": \"Volume_ss_jacent\"})\n",
    "\n",
    "\n",
    "    df_sous_jacent[\"Close_yesterday_ss_jacent\"] = df_sous_jacent[\"Close_ss_jacent\"].shift(+1) # Création d'une nouvelle variable représentant le prix de l'action la veille (utile pour calculer la performance de l'action sur une journée)\n",
    "\n",
    "    horizons = [2,5,21] # On va créer des moyennes glissantes des prix de l'action sur 2 jours, 1 semaine et 1 mois\n",
    "    for horizon in horizons:\n",
    "        # Calcul de la moyenne glissante sur l'horizon donné\n",
    "        rolling_averages = df_sous_jacent[\"Close_ss_jacent\"].rolling(horizon).mean() \n",
    "        \n",
    "        # Générer le nom de la nouvelle colonne\n",
    "        moy_column = f\"mean_{horizon}d_ss_jacent\"  \n",
    "        \n",
    "        # Ajouter la colonne avec les moyennes calculées à la dataframe\n",
    "        df_sous_jacent[moy_column] = rolling_averages\n",
    "\n",
    "    \n",
    "    # Calcul des performances glissantes\n",
    "    df_sous_jacent[\"Perf_1d_ss_jacent\"] = df_sous_jacent[\"Close_ss_jacent\"].pct_change(1)  # 1 jour\n",
    "    df_sous_jacent[\"Perf_1w_ss_jacent\"] = df_sous_jacent[\"Close_ss_jacent\"].pct_change(5)  # 1 semaine (environ 5 jours ouvrés)\n",
    "    df_sous_jacent[\"Perf_1m_ss_jacent\"] = df_sous_jacent[\"Close_ss_jacent\"].pct_change(21)  # 1 mois (environ 21 jours ouvrés)\n",
    "    df_sous_jacent[\"Perf_3m_ss_jacent\"] = df_sous_jacent[\"Close_ss_jacent\"].pct_change(63)  # 3 mois (environ 63 jours ouvrés)\n",
    "    df_sous_jacent[\"Perf_6m_ss_jacent\"] = df_sous_jacent[\"Close_ss_jacent\"].pct_change(126)  # 6 mois (environ 126 jours ouvrés)\n",
    "    df_sous_jacent[\"Perf_1y_ss_jacent\"] = df_sous_jacent[\"Close_ss_jacent\"].pct_change(252)  # 1 an (environ 252 jours ouvrés)\n",
    "\n",
    "\n",
    "    df_sous_jacent['Log_perf_1d_ss_jacent'] = np.log(df_sous_jacent[\"Close_ss_jacent\"]/df_sous_jacent[\"Close_yesterday_ss_jacent\"]) # Calcul des rendements logarithmiques quotidien (nécessaire pour calculer la volatilité du sous-jacent)\n",
    "    df_sous_jacent[\"Volatility_1y_ss_jacent\"] = df_sous_jacent['Log_perf_1d_ss_jacent'].rolling(window=30).std() * np.sqrt(252) # Calcul de la volatilité sur 30 jours annualisée\n",
    "    df_sous_jacent[\"Global_volatility\"] = np.sqrt((df_sous_jacent['Log_perf_1d_ss_jacent'].var())*252) # Calcul de la volatilité globale du sous-jacent sur tout l'historique (nécéssaire pour réaliser des prédictions avec le model de Black-Scholes)\n",
    "\n",
    "\n",
    "    df_dividend = get_dividend(ticker_name)\n",
    "    df_merged = pd.merge(df_sous_jacent, df_dividend, on='Date', how='inner')\n",
    "\n",
    "    return df_merged"
   ]
  },
  {
   "cell_type": "code",
   "execution_count": null,
   "id": "a7d52a50",
   "metadata": {},
   "outputs": [],
   "source": [
    "for ticker in tickers:\n",
    "    globals()[f\"df_sous_jacent_{ticker}\"] = get_sous_jacent(ticker)\n"
   ]
  },
  {
   "cell_type": "markdown",
   "id": "c81ac789",
   "metadata": {},
   "source": [
    "# Option (call)"
   ]
  },
  {
   "cell_type": "code",
   "execution_count": 15,
   "id": "70769b0b",
   "metadata": {},
   "outputs": [],
   "source": [
    "def get_option(ticker_name) :\n",
    "    ticker = yf.Ticker(ticker_name)\n",
    "    options_chain = []\n",
    "    calls = []\n",
    "    enriched_data =[]\n",
    "\n",
    "    selected_expiration_dates = list(ticker.options) # Extraire toutes les dates de maturité des options disponibles sur le sous-jacent étudié\n",
    "\n",
    "    for selected_expiration_date in selected_expiration_dates :\n",
    "        options_chain.append(ticker.option_chain(selected_expiration_date)) # Récupération des informations les plus récentes sur chaque option\n",
    "\n",
    "    for expiration_date, options in zip(selected_expiration_dates, options_chain):\n",
    "        options.calls['Expiration Date'] = expiration_date # On associe à chaque call sa date de maturité\n",
    "        calls.append(options.calls)\n",
    "\n",
    "    # On va vouloir prendre l'historique pour tous les calls dans la liste `calls`\n",
    "    for calls_df in calls:\n",
    "\n",
    "        for _, call in calls_df.iterrows():  # Parcourt chaque ligne du DataFrame de calls\n",
    "            contract_symbol = call['contractSymbol']  # Identifiant du call\n",
    "            try:\n",
    "                option = yf.Ticker(contract_symbol)\n",
    "\n",
    "                # Récupérer l'historique des prix de chaque call\n",
    "                history = option.history(\n",
    "                    start=start_date,\n",
    "                    end=end_date,\n",
    "                    interval='1d'\n",
    "                )\n",
    "\n",
    "                # Ajouter les données historiques dans le format souhaité\n",
    "                for date, row in history.iterrows():\n",
    "                    enriched_row = call.copy()  # Copie les données de la ligne actuelle\n",
    "                    enriched_row['Close_call'] = row['Close']  # Ajouter le prix observé\n",
    "                    enriched_row['Date'] = date  # Ajouter la date de l'observation\n",
    "                    enriched_data.append(enriched_row)\n",
    "            except Exception as e:\n",
    "                print(f\"Erreur lors de la récupération de {contract_symbol}: {e}\")\n",
    "\n",
    "    df_call = pd.DataFrame(enriched_data)\n",
    "\n",
    "    final_columns = ['contractSymbol', 'strike', 'bid', 'ask', 'Close_call', 'impliedVolatility', 'Date','Expiration Date']\n",
    "    df_call = df_call[final_columns]\n",
    "\n",
    "    # Mettre les dates sous le même format que pour le sous-jacent\n",
    "    df_call['Date'] = pd.to_datetime(df_call['Date']).dt.strftime(\"%Y-%m-%d\")\n",
    "    df_call['Date'] = pd.to_datetime(df_call['Date']).dt.tz_localize(None)\n",
    "\n",
    "    df_call = df_call.rename(columns={\"contractSymbol\": \"Ticker_call\"})\n",
    "    df_call = df_call.rename(columns={\"strike\": \"Strike_price\"})\n",
    "    df_call = df_call.rename(columns={\"bid\": \"Bid_call\"})\n",
    "    df_call = df_call.rename(columns={\"ask\": \"Ask_call\"})\n",
    "    df_call = df_call.rename(columns={\"impliedVolatility\": \"Volatility_call\"})\n",
    "    df_call = df_call.rename(columns={\"Expiration Date\": \"Maturity_date\"})\n",
    "    df_call[\"Spread_bid_ask_call\"] = df_call[\"Ask_call\"]-df_call[\"Bid_call\"]\n",
    "    df_call[\"Time_before_maturity\"] = pd.to_datetime(df_call[\"Maturity_date\"]) - df_call[\"Date\"] # La date de maturité étant la meme à chaque période pour chaque call, nous nous intéressons finalement au nombre de jour qu'il reste avant l'échéance du call\n",
    "    df_call[\"Time_before_maturity\"] = df_call[\"Time_before_maturity\"].dt.days.astype(float)\n",
    "    del df_call[\"Maturity_date\"]\n",
    "\n",
    "    # On observe l'historique disponible pour chaque call et on conserve le 1er parmi ceux qui ont le plus d'historique\n",
    "    grouped_data = df_call.groupby('Ticker_call').size().reset_index(name='count')\n",
    "    max_count = grouped_data['count'].max()\n",
    "    result = grouped_data[grouped_data['count'] == max_count]\n",
    "\n",
    "    startswith_value = result['Ticker_call'].iloc[0]\n",
    "    df_call = df_call[df_call['Ticker_call'].str.startswith(startswith_value)]\n",
    "\n",
    "    return df_call"
   ]
  },
  {
   "cell_type": "code",
   "execution_count": null,
   "id": "18a71db4",
   "metadata": {},
   "outputs": [],
   "source": [
    "for ticker in tickers:\n",
    "    globals()[f\"df_option_{ticker}\"] = get_option(ticker)"
   ]
  },
  {
   "cell_type": "markdown",
   "id": "cc3ba246",
   "metadata": {},
   "source": [
    "# Taux sans risque / IPC / Chomage / PIB"
   ]
  },
  {
   "cell_type": "code",
   "execution_count": 101,
   "id": "236a710f",
   "metadata": {},
   "outputs": [],
   "source": [
    "# Fonction pour récupérer les données depuis l'API FRED\n",
    "def get_fred_data(series_id, api_key):\n",
    "    url = f\"https://api.stlouisfed.org/fred/series/observations\"\n",
    "    params = {\n",
    "        \"series_id\": series_id,\n",
    "        \"api_key\": api_key,\n",
    "        \"file_type\": \"json\"\n",
    "    }\n",
    "    response = requests.get(url, params=params)\n",
    "    if response.status_code == 200:\n",
    "        data = response.json()\n",
    "        if \"observations\" in data:\n",
    "            df = pd.DataFrame(data[\"observations\"])\n",
    "            df[\"date\"] = pd.to_datetime(df[\"date\"])\n",
    "            df[\"value\"] = pd.to_numeric(df[\"value\"], errors=\"coerce\")\n",
    "            return df[[\"date\", \"value\"]]\n",
    "        else:\n",
    "            print(f\"Aucune donnée pour {series_id}\")\n",
    "            return None\n",
    "    else:\n",
    "        print(f\"Erreur API pour {series_id}: {response.status_code}\")\n",
    "        return None\n",
    "\n",
    "    df['date'] = pd.to_datetime(df['date']).dt.strftime(\"%Y-%m-%d\")\n",
    "    df['date'] = pd.to_datetime(df['date']).dt.tz_localize(None) # Pour mettre les dates sous le même format que pour le sous-jacent\n",
    "    "
   ]
  },
  {
   "cell_type": "markdown",
   "id": "ac8745b3",
   "metadata": {},
   "source": [
    "### Taux sans risque"
   ]
  },
  {
   "cell_type": "code",
   "execution_count": null,
   "id": "05410730",
   "metadata": {},
   "outputs": [],
   "source": [
    "#Taux sans risque Francais\n",
    "df_tx_sans_risque_Fr = get_fred_data(\"IRLTLT01EZM156N\", api_key)\n",
    "    # Combler les dates manquantes avec la dernière valeur connue\n",
    "df_tx_sans_risque_Fr = (\n",
    "    df_tx_sans_risque_Fr.set_index(\"date\")\n",
    "    .reindex(all_dates)\n",
    "    .fillna(method=\"ffill\")\n",
    "    .reset_index()\n",
    ")\n",
    "df_tx_sans_risque_Fr = df_tx_sans_risque_Fr.rename(columns={\"value\": \"Risk_free_rate_Fr\"})\n",
    "df_tx_sans_risque_Fr = df_tx_sans_risque_Fr.rename(columns={\"index\": \"Date\"})\n",
    "df_tx_sans_risque_Fr = df_tx_sans_risque_Fr[df_tx_sans_risque_Fr[\"Date\"] >= start_date]\n",
    "\n",
    "\n",
    "#Taux sans risque Allemand\n",
    "df_tx_sans_risque_Ge = get_fred_data(\"IRLTLT01DEM156N\", api_key)\n",
    "df_tx_sans_risque_Ge = (\n",
    "    df_tx_sans_risque_Ge.set_index(\"date\")\n",
    "    .reindex(all_dates)\n",
    "    .fillna(method=\"ffill\")\n",
    "    .reset_index()\n",
    ")\n",
    "df_tx_sans_risque_Ge = df_tx_sans_risque_Ge.rename(columns={\"value\": \"Risk_free_rate_Ge\"})\n",
    "df_tx_sans_risque_Ge = df_tx_sans_risque_Ge.rename(columns={\"index\": \"Date\"})\n",
    "df_tx_sans_risque_Ge = df_tx_sans_risque_Ge[df_tx_sans_risque_Ge[\"Date\"] >= start_date]\n",
    "\n",
    "\n",
    "#Taux sans risque Anglais\n",
    "df_tx_sans_risque_Uk = get_fred_data(\"IRLTLT01GBM156N\", api_key)\n",
    "df_tx_sans_risque_Uk = (\n",
    "    df_tx_sans_risque_Uk.set_index(\"date\")\n",
    "    .reindex(all_dates)\n",
    "    .fillna(method=\"ffill\")\n",
    "    .reset_index()\n",
    ")\n",
    "df_tx_sans_risque_Uk = df_tx_sans_risque_Uk.rename(columns={\"value\": \"Risk_free_rate_Uk\"})\n",
    "df_tx_sans_risque_Uk = df_tx_sans_risque_Uk.rename(columns={\"index\": \"Date\"})\n",
    "df_tx_sans_risque_Uk = df_tx_sans_risque_Uk[df_tx_sans_risque_Uk[\"Date\"] >= start_date]\n",
    "\n",
    "\n",
    "#Taux sans risque Américain\n",
    "df_tx_sans_risque_Usa = get_fred_data(\"DGS10\", api_key)\n",
    "df_tx_sans_risque_Usa = (\n",
    "    df_tx_sans_risque_Usa.set_index(\"date\")\n",
    "    .reindex(all_dates)\n",
    "    .fillna(method=\"ffill\")\n",
    "    .reset_index()\n",
    ")\n",
    "df_tx_sans_risque_Usa = df_tx_sans_risque_Usa.rename(columns={\"value\": \"Risk_free_rate_Usa\"})\n",
    "df_tx_sans_risque_Usa = df_tx_sans_risque_Usa.rename(columns={\"index\": \"Date\"})\n",
    "df_tx_sans_risque_Usa = df_tx_sans_risque_Usa[df_tx_sans_risque_Usa[\"Date\"] >= start_date]"
   ]
  },
  {
   "cell_type": "markdown",
   "id": "a9e23eaf",
   "metadata": {},
   "source": [
    "### IPC"
   ]
  },
  {
   "cell_type": "code",
   "execution_count": 103,
   "id": "29733a6f",
   "metadata": {},
   "outputs": [
    {
     "name": "stdout",
     "output_type": "stream",
     "text": [
      "           Date  IPC_index\n",
      "1095 2022-12-24    298.812\n",
      "1096 2022-12-25    298.812\n",
      "1097 2022-12-26    298.812\n",
      "1098 2022-12-27    298.812\n",
      "1099 2022-12-28    298.812\n",
      "...         ...        ...\n",
      "1821 2024-12-19    316.441\n",
      "1822 2024-12-20    316.441\n",
      "1823 2024-12-21    316.441\n",
      "1824 2024-12-22    316.441\n",
      "1825 2024-12-23    316.441\n",
      "\n",
      "[731 rows x 2 columns]\n",
      "<class 'pandas.core.frame.DataFrame'>\n",
      "Index: 731 entries, 1095 to 1825\n",
      "Data columns (total 2 columns):\n",
      " #   Column     Non-Null Count  Dtype         \n",
      "---  ------     --------------  -----         \n",
      " 0   Date       731 non-null    datetime64[ns]\n",
      " 1   IPC_index  731 non-null    float64       \n",
      "dtypes: datetime64[ns](1), float64(1)\n",
      "memory usage: 17.1 KB\n",
      "None\n"
     ]
    },
    {
     "name": "stderr",
     "output_type": "stream",
     "text": [
      "/tmp/ipykernel_66012/1557717002.py:6: FutureWarning: DataFrame.fillna with 'method' is deprecated and will raise in a future version. Use obj.ffill() or obj.bfill() instead.\n",
      "  .fillna(method=\"ffill\")  # Remplir avec la dernière valeur connue\n"
     ]
    }
   ],
   "source": [
    "df_inflation = get_fred_data(\"CPIAUCSL\", api_key)\n",
    "\n",
    "df_inflation = (\n",
    "    df_inflation.set_index(\"date\")\n",
    "    .reindex(all_dates)\n",
    "    .fillna(method=\"ffill\")\n",
    "    .reset_index()\n",
    ")\n",
    "\n",
    "df_inflation = df_inflation.rename(columns={\"index\": \"Date\"})\n",
    "df_inflation = df_inflation.rename(columns={\"value\": \"IPC_index\"})\n",
    "df_inflation = df_inflation[df_inflation[\"Date\"] >= start_date]\n",
    "\n",
    "print(df_inflation)\n",
    "print(df_inflation.info())"
   ]
  },
  {
   "cell_type": "markdown",
   "id": "a4714339",
   "metadata": {},
   "source": [
    "### Chomage"
   ]
  },
  {
   "cell_type": "code",
   "execution_count": 104,
   "id": "5fc8655e",
   "metadata": {},
   "outputs": [
    {
     "name": "stdout",
     "output_type": "stream",
     "text": [
      "<class 'pandas.core.frame.DataFrame'>\n",
      "Index: 731 entries, 1095 to 1825\n",
      "Data columns (total 2 columns):\n",
      " #   Column             Non-Null Count  Dtype         \n",
      "---  ------             --------------  -----         \n",
      " 0   Date               731 non-null    datetime64[ns]\n",
      " 1   Unemployment_rate  731 non-null    float64       \n",
      "dtypes: datetime64[ns](1), float64(1)\n",
      "memory usage: 17.1 KB\n",
      "None\n",
      "           Date  Unemployment_rate\n",
      "1095 2022-12-24                3.2\n",
      "1096 2022-12-25                3.2\n",
      "1097 2022-12-26                3.2\n",
      "1098 2022-12-27                3.2\n",
      "1099 2022-12-28                3.2\n",
      "...         ...                ...\n",
      "1821 2024-12-19                3.9\n",
      "1822 2024-12-20                3.9\n",
      "1823 2024-12-21                3.9\n",
      "1824 2024-12-22                3.9\n",
      "1825 2024-12-23                3.9\n",
      "\n",
      "[731 rows x 2 columns]\n"
     ]
    },
    {
     "name": "stderr",
     "output_type": "stream",
     "text": [
      "/tmp/ipykernel_66012/313684840.py:6: FutureWarning: DataFrame.fillna with 'method' is deprecated and will raise in a future version. Use obj.ffill() or obj.bfill() instead.\n",
      "  .fillna(method=\"ffill\")  # Remplir avec la dernière valeur connue\n"
     ]
    }
   ],
   "source": [
    "df_chomage = get_fred_data(\"LNS14000024\", api_key)\n",
    "\n",
    "df_chomage = (\n",
    "    df_chomage.set_index(\"date\")\n",
    "    .reindex(all_dates)\n",
    "    .fillna(method=\"ffill\")\n",
    "    .reset_index()\n",
    ")\n",
    "\n",
    "df_chomage = df_chomage.rename(columns={\"index\": \"Date\"})\n",
    "df_chomage = df_chomage.rename(columns={\"value\": \"Unemployment_rate\"})\n",
    "df_chomage = df_chomage[df_chomage[\"Date\"] >= start_date]\n",
    "\n",
    "print(df_chomage.info())\n",
    "print(df_chomage)"
   ]
  },
  {
   "cell_type": "markdown",
   "id": "d1fafea7",
   "metadata": {},
   "source": [
    "### PIB"
   ]
  },
  {
   "cell_type": "code",
   "execution_count": 111,
   "id": "698f7c55",
   "metadata": {},
   "outputs": [
    {
     "name": "stdout",
     "output_type": "stream",
     "text": [
      "           Date    GDP_Usa\n",
      "1095 2022-12-24  22249.459\n",
      "1096 2022-12-25  22249.459\n",
      "1097 2022-12-26  22249.459\n",
      "1098 2022-12-27  22249.459\n",
      "1099 2022-12-28  22249.459\n",
      "...         ...        ...\n",
      "1821 2024-12-19  23400.294\n",
      "1822 2024-12-20  23400.294\n",
      "1823 2024-12-21  23400.294\n",
      "1824 2024-12-22  23400.294\n",
      "1825 2024-12-23  23400.294\n",
      "\n",
      "[731 rows x 2 columns]\n"
     ]
    },
    {
     "name": "stderr",
     "output_type": "stream",
     "text": [
      "/tmp/ipykernel_66012/3062196233.py:7: FutureWarning: DataFrame.fillna with 'method' is deprecated and will raise in a future version. Use obj.ffill() or obj.bfill() instead.\n",
      "  .fillna(method=\"ffill\")  # Remplir avec la dernière valeur connue\n"
     ]
    }
   ],
   "source": [
    "df_pib_usa = get_fred_data(\"GDPC1\", api_key)\n",
    "\n",
    "df_pib_usa = (\n",
    "    df_pib_usa.set_index(\"date\")\n",
    "    .reindex(all_dates)\n",
    "    .fillna(method=\"ffill\")\n",
    "    .reset_index()\n",
    ")\n",
    "\n",
    "df_pib_usa = df_pib_usa.rename(columns={\"index\": \"Date\"})\n",
    "df_pib_usa = df_pib_usa.rename(columns={\"value\": \"GDP_Usa\"})\n",
    "df_pib_usa = df_pib_usa[df_pib_usa[\"Date\"] >= start_date]\n",
    "\n",
    "print(df_pib_usa)"
   ]
  },
  {
   "cell_type": "markdown",
   "id": "526fc689",
   "metadata": {},
   "source": [
    "# Indices Boursier"
   ]
  },
  {
   "cell_type": "code",
   "execution_count": 106,
   "id": "73d13215",
   "metadata": {},
   "outputs": [
    {
     "name": "stdout",
     "output_type": "stream",
     "text": [
      "          Date  Euro_Stoxx_50_index\n",
      "0   2022-12-23          3817.010010\n",
      "1   2022-12-27          3832.889893\n",
      "2   2022-12-28          3808.820068\n",
      "3   2022-12-29          3850.070068\n",
      "4   2022-12-30          3793.620117\n",
      "..         ...                  ...\n",
      "499 2024-12-17          4942.580078\n",
      "500 2024-12-18          4957.279785\n",
      "501 2024-12-19          4879.000000\n",
      "502 2024-12-20          4862.279785\n",
      "503 2024-12-23          4861.000000\n",
      "\n",
      "[504 rows x 2 columns]\n"
     ]
    }
   ],
   "source": [
    "eurotoxx50 = yf.Ticker(\"^STOXX50E\")\n",
    "sp500 = yf.Ticker(\"^GSPC\")\n",
    "dowjones = yf.Ticker(\"^DJI\")\n",
    "nasdaq = yf.Ticker(\"^IXIC\")\n",
    "\n",
    "df_eurotoxx50 = eurotoxx50.history(period=\"2y\")\n",
    "df_eurotoxx50.reset_index(inplace=True)\n",
    "df_eurotoxx50 = df_eurotoxx50[[\"Date\",\"Close\"]]\n",
    "df_eurotoxx50['Date'] = pd.to_datetime(df_eurotoxx50['Date']).dt.strftime(\"%Y-%m-%d\")\n",
    "df_eurotoxx50['Date'] = pd.to_datetime(df_eurotoxx50['Date']).dt.tz_localize(None) # Pour mettre les dates sous le même format que pour le sous-jacent\n",
    "df_eurotoxx50 = df_eurotoxx50.rename(columns={\"Close\": \"Euro_Stoxx_50_index\"})\n",
    "\n",
    "df_sp500 = sp500.history(period=\"2y\")\n",
    "df_sp500.reset_index(inplace=True)\n",
    "df_sp500 = df_sp500[[\"Date\",\"Close\"]]\n",
    "df_sp500['Date'] = pd.to_datetime(df_sp500['Date']).dt.strftime(\"%Y-%m-%d\")\n",
    "df_sp500['Date'] = pd.to_datetime(df_sp500['Date']).dt.tz_localize(None)\n",
    "df_sp500 = df_sp500.rename(columns={\"Close\": \"S&P_500_index\"})\n",
    "\n",
    "df_dowjones = dowjones.history(period=\"2y\")\n",
    "df_dowjones.reset_index(inplace=True)\n",
    "df_dowjones = df_dowjones[[\"Date\",\"Close\"]]\n",
    "df_dowjones['Date'] = pd.to_datetime(df_dowjones['Date']).dt.strftime(\"%Y-%m-%d\")\n",
    "df_dowjones['Date'] = pd.to_datetime(df_dowjones['Date']).dt.tz_localize(None)\n",
    "df_dowjones = df_dowjones.rename(columns={\"Close\": \"Dow_Jones_index\"})\n",
    "\n",
    "df_nasdaq = nasdaq.history(period=\"2y\")\n",
    "df_nasdaq.reset_index(inplace=True)\n",
    "df_nasdaq = df_nasdaq[[\"Date\",\"Close\"]]\n",
    "df_nasdaq['Date'] = pd.to_datetime(df_nasdaq['Date']).dt.strftime(\"%Y-%m-%d\")\n",
    "df_nasdaq['Date'] = pd.to_datetime(df_nasdaq['Date']).dt.tz_localize(None)\n",
    "df_nasdaq = df_nasdaq.rename(columns={\"Close\": \"Nasdaq_index\"})\n",
    "\n",
    "print(df_eurotoxx50)"
   ]
  },
  {
   "cell_type": "markdown",
   "id": "f3632b61",
   "metadata": {},
   "source": [
    "# VIX"
   ]
  },
  {
   "cell_type": "code",
   "execution_count": 107,
   "id": "3d6ffdf2",
   "metadata": {},
   "outputs": [
    {
     "name": "stdout",
     "output_type": "stream",
     "text": [
      "          Date  VIX_index\n",
      "0   2022-12-23  20.870001\n",
      "1   2022-12-27  21.650000\n",
      "2   2022-12-28  22.139999\n",
      "3   2022-12-29  21.440001\n",
      "4   2022-12-30  21.670000\n",
      "..         ...        ...\n",
      "497 2024-12-17  15.870000\n",
      "498 2024-12-18  27.620001\n",
      "499 2024-12-19  24.090000\n",
      "500 2024-12-20  18.360001\n",
      "501 2024-12-23  18.860001\n",
      "\n",
      "[502 rows x 2 columns]\n"
     ]
    }
   ],
   "source": [
    "vix = yf.Ticker(\"^VIX\")\n",
    "\n",
    "df_vix = vix.history(period=\"2y\")\n",
    "df_vix.reset_index(inplace=True)\n",
    "df_vix = df_vix[[\"Date\",\"Close\"]]\n",
    "df_vix['Date'] = pd.to_datetime(df_vix['Date']).dt.strftime(\"%Y-%m-%d\")\n",
    "df_vix['Date'] = pd.to_datetime(df_vix['Date']).dt.tz_localize(None) # Pour mettre les dates sous le même format que pour le sous-jacent\n",
    "df_vix = df_vix.rename(columns={\"Close\": \"VIX_index\"})\n",
    "\n",
    "print(df_vix)"
   ]
  },
  {
   "cell_type": "markdown",
   "id": "f39172b0",
   "metadata": {},
   "source": [
    "# Concaténation de tous les DataFrames"
   ]
  },
  {
   "cell_type": "code",
   "execution_count": 110,
   "id": "effabb9c",
   "metadata": {},
   "outputs": [
    {
     "name": "stdout",
     "output_type": "stream",
     "text": [
      "<class 'pandas.core.frame.DataFrame'>\n",
      "Index: 529 entries, 0 to 528\n",
      "Data columns (total 37 columns):\n",
      " #   Column                     Non-Null Count  Dtype  \n",
      "---  ------                     --------------  -----  \n",
      " 0   Close_ss_jacent            529 non-null    float64\n",
      " 1   Volume_ss_jacent           529 non-null    int64  \n",
      " 2   Close_yesterday_ss_jacent  529 non-null    float64\n",
      " 3   mean_2d_ss_jacent          529 non-null    float64\n",
      " 4   mean_5d_ss_jacent          529 non-null    float64\n",
      " 5   mean_21d_ss_jacent         529 non-null    float64\n",
      " 6   Perf_1d_ss_jacent          529 non-null    float64\n",
      " 7   Perf_1w_ss_jacent          529 non-null    float64\n",
      " 8   Perf_1m_ss_jacent          529 non-null    float64\n",
      " 9   Perf_3m_ss_jacent          529 non-null    float64\n",
      " 10  Perf_6m_ss_jacent          529 non-null    float64\n",
      " 11  Perf_1y_ss_jacent          529 non-null    float64\n",
      " 12  Log_perf_1d_ss_jacent      529 non-null    float64\n",
      " 13  Volatility_1y_ss_jacent    529 non-null    float64\n",
      " 14  Global_volatility          529 non-null    float64\n",
      " 15  Dividend                   499 non-null    float64\n",
      " 16  Ticker_call                529 non-null    object \n",
      " 17  Strike_price               529 non-null    float64\n",
      " 18  Bid_call                   529 non-null    float64\n",
      " 19  Ask_call                   529 non-null    float64\n",
      " 20  Close_call                 529 non-null    float64\n",
      " 21  Volatility_call            529 non-null    float64\n",
      " 22  Spread_bid_ask_call        529 non-null    float64\n",
      " 23  Time_before_maturity       529 non-null    float64\n",
      " 24  Risk_free_rate_Fr          529 non-null    float64\n",
      " 25  Risk_free_rate_Ge          529 non-null    float64\n",
      " 26  Risk_free_rate_Uk          529 non-null    float64\n",
      " 27  Risk_free_rate_Usa         529 non-null    float64\n",
      " 28  Euro_Stoxx_50_index        518 non-null    float64\n",
      " 29  S&P_500_index              529 non-null    float64\n",
      " 30  Dow_Jones_index            529 non-null    float64\n",
      " 31  Nasdaq_index               529 non-null    float64\n",
      " 32  VIX_index                  529 non-null    float64\n",
      " 33  IPC_index                  529 non-null    float64\n",
      " 34  Unemployment_rate          529 non-null    float64\n",
      " 35  GDP_usa                    529 non-null    float64\n",
      " 36  Date_x_Sous_jacent         529 non-null    object \n",
      "dtypes: float64(34), int64(1), object(2)\n",
      "memory usage: 157.0+ KB\n",
      "None\n"
     ]
    }
   ],
   "source": [
    "# Nous mettons essemble les informations de chaque entreprise étudiée avec le call extrait correspondant\n",
    "df_GOOG = pd.merge(df_sous_jacent_GOOG, df_option_GOOG, on='Date', how='inner')\n",
    "df_AAPL = pd.merge(df_sous_jacent_AAPL, df_option_AAPL, on='Date', how='inner')\n",
    "df_META = pd.merge(df_sous_jacent_META, df_option_META, on='Date', how='inner')\n",
    "df_MSFT = pd.merge(df_sous_jacent_MSFT, df_option_MSFT, on='Date', how='inner')\n",
    "df_AMZN = pd.merge(df_sous_jacent_AMZN, df_option_AMZN, on='Date', how='inner')\n",
    "df_TSLA = pd.merge(df_sous_jacent_TSLA, df_option_TSLA, on='Date', how='inner')\n",
    "df_NFLX = pd.merge(df_sous_jacent_NFLX, df_option_NFLX, on='Date', how='inner')\n",
    "\n",
    "df = pd.concat([df_GOOG, df_AAPL, df_META, df_MSFT, df_AMZN, df_TSLA, df_NFLX], ignore_index=True) # Nous ajoutons le dataframe de chaque entreprise les uns en dessous des autres pour consistuer notre base de donnée\n",
    "\n",
    "# Nous associons à chaque date les informations (dataframes) extraites précédement\n",
    "to_merge=[df_tx_sans_risque_Fr, df_tx_sans_risque_Ge, df_tx_sans_risque_Uk, df_tx_sans_risque_Usa, df_eurotoxx50, df_sp500, df_dowjones, df_nasdaq, df_vix, df_inflation, df_chomage, df_pib_usa]\n",
    "for df_to_merge in to_merge:\n",
    "    df = pd.merge(df, df_to_merge, on='Date', how='left')\n",
    "\n",
    "df = df.sort_values(by =\"Date\", ascending=True)\n",
    "\n",
    "df[\"Date_x_Sous_jacent\"] = list(zip(df[\"Date\"], df[\"Sous_jacent\"])) # Création d'un tuple (Date, Sous-jacent) qui nous permet de dissocier chaque série temporelle et d'observer leur évolution en fonction de la date\n",
    "del df[\"Date\"]\n",
    "del df[\"Sous_jacent\"]\n",
    "\n",
    "print(df.info())"
   ]
  },
  {
   "cell_type": "markdown",
   "id": "e4fbfb96",
   "metadata": {},
   "source": [
    "# Identification des valeurs manquantes"
   ]
  },
  {
   "cell_type": "code",
   "execution_count": 78,
   "id": "be3b7b85",
   "metadata": {},
   "outputs": [
    {
     "name": "stdout",
     "output_type": "stream",
     "text": [
      "Dividend         30\n",
      "Euro_Stoxx_50    11\n",
      "dtype: int64\n"
     ]
    }
   ],
   "source": [
    "# Nous voulons identifier quelles sont les variables qui ont des valeurs manquantes\n",
    "# Dans les modeles développés par la suite, nous utiliserons la méthode des proches voisins lorsque ceci représente peu de valeurs et est lié simplement à une information non existante\n",
    "missing_values = df.isnull().sum()\n",
    "columns_with_missing = missing_values[missing_values > 0] # Filtrer pour ne garder que les colonnes avec des valeurs nulles\n",
    "\n",
    "print(columns_with_missing)"
   ]
  },
  {
   "cell_type": "markdown",
   "id": "8eba6897",
   "metadata": {},
   "source": [
    "# Black-Scholes Prediction"
   ]
  },
  {
   "cell_type": "code",
   "execution_count": 79,
   "id": "8d1a99a1",
   "metadata": {},
   "outputs": [],
   "source": [
    "# Définition des dernières variables utiles pour le model de Black-Scholes et prédiction\n",
    "df[\"d1\"] = (np.log(df[\"Close_ss_jacent\"]/df[\"Strike_price\"])+((df[\"Time_before_maturity\"]/365)*((df[\"Taux_sans_risque_Usa\"]/100)+((df[\"Global_volatility\"]**2)/2))))/(df[\"Global_volatility\"]*np.sqrt(df[\"Time_before_maturity\"]/365))\n",
    "df[\"d2\"] = df[\"d1\"] - df[\"Global_volatility\"]*np.sqrt(df[\"Time_before_maturity\"]/365)\n",
    "\n",
    "df[\"Call_price_BS\"] = df[\"Close_ss_jacent\"]*norm.cdf(df[\"d1\"]) - df[\"Strike_price\"]*np.exp(-(df[\"Taux_sans_risque_Usa\"]/100)*df[\"Time_before_maturity\"]/365)*norm.cdf(df[\"d2\"])\n",
    "\n",
    "del df[\"d1\"]\n",
    "del df[\"d2\"]"
   ]
  },
  {
   "cell_type": "markdown",
   "id": "a112df5a",
   "metadata": {},
   "source": [
    "# Création du document CSV contenant notre base de données"
   ]
  },
  {
   "cell_type": "code",
   "execution_count": null,
   "id": "2c2fa425",
   "metadata": {},
   "outputs": [],
   "source": [
    "df.to_csv('data.csv', index=False)"
   ]
  },
  {
   "cell_type": "markdown",
   "id": "c53c476b",
   "metadata": {},
   "source": [
    "# Illustration des prédictions avec le modèle de Black-Scholes"
   ]
  },
  {
   "cell_type": "code",
   "execution_count": null,
   "id": "1326eba9",
   "metadata": {},
   "outputs": [
    {
     "data": {
      "image/png": "[encoded data removed]",
      "text/plain": [
       "<Figure size 1000x600 with 1 Axes>"
      ]
     },
     "metadata": {},
     "output_type": "display_data"
    }
   ],
   "source": [
    "import pandas as pd\n",
    "import matplotlib.pyplot as plt\n",
    "\n",
    "# Extraire les colonnes 'date' et 'sous_jacent'\n",
    "df[\"Date\"] = df[\"Date_x_Sous_jacent\"].apply(lambda x: x[0])  # Extraire la date\n",
    "df[\"Sous_jacent\"] = df[\"Date_x_Sous_jacent\"].apply(lambda x: x[1])  # Extraire le sous-jacent\n",
    "\n",
    "# Convertir la colonne 'date' en datetime pour une meilleure gestion\n",
    "df[\"Date\"] = pd.to_datetime(df[\"Date\"])\n",
    "\n",
    "# Filtrer les données pour le sous-jacent AAPL\n",
    "df_aapl = df[df[\"Sous_jacent\"] == \"AAPL\"]\n",
    "\n",
    "# Tracer le graphique\n",
    "plt.figure(figsize=(10, 6))\n",
    "plt.plot(df_aapl[\"Date\"], df_aapl[\"Close_call\"], label=\"Close Call\", marker=\"o\")\n",
    "plt.plot(df_aapl[\"Date\"], df_aapl[\"Call_price_BS\"], label=\"Call Price BS\", marker=\"x\")\n",
    "plt.xlabel(\"Date\")\n",
    "plt.ylabel(\"Valeur\")\n",
    "plt.title(\"Close Call vs Call Price BS pour AAPL\")\n",
    "plt.legend()\n",
    "plt.grid()\n",
    "plt.show()"
   ]
  },
  {
   "cell_type": "code",
   "execution_count": null,
   "id": "f912400a",
   "metadata": {},
   "outputs": [],
   "source": []
  }
 ],
 "metadata": {
  "kernelspec": {
   "display_name": "base",
   "language": "python",
   "name": "python3"
  },
  "language_info": {
   "codemirror_mode": {
    "name": "ipython",
    "version": 3
   },
   "file_extension": ".py",
   "mimetype": "text/x-python",
   "name": "python",
   "nbconvert_exporter": "python",
   "pygments_lexer": "ipython3",
   "version": "3.12.7"
  }
 },
 "nbformat": 4,
 "nbformat_minor": 5
}
